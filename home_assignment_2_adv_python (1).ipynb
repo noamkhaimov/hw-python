{
 "cells": [
  {
   "cell_type": "markdown",
   "metadata": {
    "collapsed": true
   },
   "source": [
    "# Home Assignment 2 - Advanced Python"
   ]
  },
  {
   "cell_type": "markdown",
   "metadata": {},
   "source": [
    "## Part 0 - Student(s) Details"
   ]
  },
  {
   "cell_type": "markdown",
   "metadata": {},
   "source": [
    "Print the Students details (replace `<>` with the real details):"
   ]
  },
  {
   "cell_type": "code",
   "execution_count": null,
   "metadata": {},
   "outputs": [],
   "source": [
    "print(\"Student 1 id: 212711519\")\n",
    "print(\"Student 1 Name: Noam Khaimov\")"
   ]
  },
  {
   "cell_type": "markdown",
   "metadata": {},
   "source": [
    "## Guidelines\n",
    "\n",
    "- In this Homework assignment we will use numpy, pandas, matplotlib and seaborn to load and visualize a dataset.\n",
    "- After completing each part, you should be able to run the and test your results (so far).\n",
    "- The notebook MUST run without errors (if it will not, you will lose points).\n",
    "- You can use the code from the lectures and recitations as a base line.\n",
    "- Where needed - make sure to add documentation - as we saw in class.\n",
    "- Keep a clean code."
   ]
  },
  {
   "cell_type": "markdown",
   "metadata": {},
   "source": [
    "## The Data\n",
    "\n",
    "In this assignment we will work on (a modified version of a subset of) the \"Wine Quality\" dataset.  \n",
    "\n",
    "There are several versions of this dataset, for example you can find the full dataset from kaggle here:   \n",
    "https://www.kaggle.com/datasets/rajyellow46/wine-quality\n",
    "\n",
    "The full dataset:  \n",
    "- The full dataset contains a train and a test set for red and white wines.  \n",
    "- The dataset contains 11 features, and a target value which is the quality of the wine.  \n",
    "- The \"target feaaature\" - the quality of the wine is represented as an integer from 0 to 10.  \n",
    "\n",
    "The assignment's dataset:\n",
    "- The dataset in this HW, is a subset of the train dataset, only for white wines.\n",
    "- The \"target feature\" -  the quality of the wine - was changed to be binary - is the wine of high quality or not - all wines with quality\n",
    "above 6 are considered high quality wines.\n",
    "\n",
    "The data for this assignment is given to you as a csv file - `hw2_winequality.csv`.\n",
    "\n",
    "You can load it into a pandas dataframe using:  \n",
    "    `data = pd.read_csv(\"./hw2_winequality.csv\")`"
   ]
  },
  {
   "cell_type": "markdown",
   "metadata": {},
   "source": [
    "## Imports\n",
    "\n",
    "**Make sure you installed all the required libraries**"
   ]
  },
  {
   "cell_type": "code",
   "metadata": {
    "ExecuteTime": {
     "end_time": "2025-01-18T08:49:26.203948Z",
     "start_time": "2025-01-18T08:49:26.186370Z"
    }
   },
   "source": [
    "%matplotlib inline\n",
    "\n",
    "import matplotlib\n",
    "import matplotlib.pyplot as plt\n",
    "\n",
    "import numpy as np\n",
    "import pandas as pd\n",
    "import seaborn as sns"
   ],
   "outputs": [],
   "execution_count": 2
  },
  {
   "cell_type": "markdown",
   "metadata": {},
   "source": [
    "## Part 1 - Numpy "
   ]
  },
  {
   "cell_type": "markdown",
   "metadata": {},
   "source": [
    "### Part 1 - Important Guidelines\n",
    "* In this part you are allowed to use only the numpy library.  \n",
    "* You are **NOT ALLOWED** to use loops of any kind (for / while)."
   ]
  },
  {
   "cell_type": "markdown",
   "metadata": {},
   "source": [
    "### Task 1.1\n",
    "Create a 4x5 numpy array, that contains the numbers from 1 to 20."
   ]
  },
  {
   "cell_type": "code",
   "metadata": {
    "ExecuteTime": {
     "end_time": "2025-01-18T08:49:29.732774Z",
     "start_time": "2025-01-18T08:49:29.728430Z"
    }
   },
   "source": [
    "arr = np.arange(1, 21)\n",
    "arr = arr.reshape(4, 5)\n",
    "print(arr)"
   ],
   "outputs": [
    {
     "name": "stdout",
     "output_type": "stream",
     "text": [
      "[[ 1  2  3  4  5]\n",
      " [ 6  7  8  9 10]\n",
      " [11 12 13 14 15]\n",
      " [16 17 18 19 20]]\n"
     ]
    }
   ],
   "execution_count": 3
  },
  {
   "cell_type": "markdown",
   "metadata": {},
   "source": [
    "### Task 1.2\n",
    "Create a 3x3 numpy array, that contains the **first 9 ODD** numbers larger than 62."
   ]
  },
  {
   "cell_type": "code",
   "metadata": {
    "ExecuteTime": {
     "end_time": "2025-01-18T09:00:08.126162Z",
     "start_time": "2025-01-18T09:00:08.121564Z"
    }
   },
   "source": [
    "arr_odd = np.arange(63, 63 + 18, 2)\n",
    "arr_odd = arr.reshape(3, 3)\n",
    "print(arr_odd)"
   ],
   "outputs": [
    {
     "name": "stdout",
     "output_type": "stream",
     "text": [
      "[[63 65 67]\n",
      " [69 71 73]\n",
      " [75 77 79]]\n"
     ]
    }
   ],
   "execution_count": 8
  },
  {
   "cell_type": "markdown",
   "metadata": {},
   "source": [
    "### Task 1.3\n",
    "Calculate the matrix multiplication product of the array from Tasks 1.2 with its transposed matrix."
   ]
  },
  {
   "cell_type": "code",
   "metadata": {
    "ExecuteTime": {
     "end_time": "2025-01-18T09:00:10.750252Z",
     "start_time": "2025-01-18T09:00:10.745627Z"
    }
   },
   "source": [
    "arr_mul_prod = arr_odd @ arr_odd.T\n",
    "print(arr_mul_prod)"
   ],
   "outputs": [
    {
     "name": "stdout",
     "output_type": "stream",
     "text": [
      "[[12683 13853 15023]\n",
      " [13853 15131 16409]\n",
      " [15023 16409 17795]]\n"
     ]
    }
   ],
   "execution_count": 9
  },
  {
   "cell_type": "markdown",
   "metadata": {},
   "source": [
    "### Task 1.4\n",
    "Concatenate the arrays from Tasks 1.2 and 1.3.  \n",
    "it is up to you to decide along which axis you are will concatenate the arrays."
   ]
  },
  {
   "cell_type": "code",
   "metadata": {
    "ExecuteTime": {
     "end_time": "2025-01-18T09:31:03.149823Z",
     "start_time": "2025-01-18T09:31:03.144945Z"
    }
   },
   "source": [
    "concat_arr_rows = np.concatenate((arr_odd, arr_mul_prod), axis=1)\n",
    "print(concat_arr_rows)\n",
    "concat_arr_columns = np.concatenate((arr_odd, arr_mul_prod), axis=0)\n",
    "print(concat_arr_columns)"
   ],
   "outputs": [
    {
     "name": "stdout",
     "output_type": "stream",
     "text": [
      "[[   63    65    67 12683 13853 15023]\n",
      " [   69    71    73 13853 15131 16409]\n",
      " [   75    77    79 15023 16409 17795]]\n",
      "[[   63    65    67]\n",
      " [   69    71    73]\n",
      " [   75    77    79]\n",
      " [12683 13853 15023]\n",
      " [13853 15131 16409]\n",
      " [15023 16409 17795]]\n"
     ]
    }
   ],
   "execution_count": 15
  },
  {
   "cell_type": "markdown",
   "metadata": {},
   "source": [
    "### Task 1.5\n",
    "Generate a random array of size 4x4, where all the elements are floats between 0 and 1."
   ]
  },
  {
   "cell_type": "code",
   "metadata": {
    "ExecuteTime": {
     "end_time": "2025-01-18T09:06:27.916735Z",
     "start_time": "2025-01-18T09:06:27.908725Z"
    }
   },
   "source": [
    "arr_random = np.random.rand(4, 4)\n",
    "print(arr_random)"
   ],
   "outputs": [
    {
     "name": "stdout",
     "output_type": "stream",
     "text": [
      "[[0.33831569 0.48274179 0.19658132 0.3161679 ]\n",
      " [0.80390217 0.56424189 0.76552709 0.32433372]\n",
      " [0.73953576 0.26822494 0.0776983  0.70598354]\n",
      " [0.29553378 0.51527427 0.28058189 0.43736681]]\n"
     ]
    }
   ],
   "execution_count": 11
  },
  {
   "cell_type": "markdown",
   "metadata": {},
   "source": [
    "### Task 1.6\n",
    "Use **the array from task 1.5** and create an array with (float) numbers between 20 and 90."
   ]
  },
  {
   "cell_type": "code",
   "metadata": {
    "ExecuteTime": {
     "end_time": "2025-01-18T09:07:10.997332Z",
     "start_time": "2025-01-18T09:07:10.992770Z"
    }
   },
   "source": [
    "arr_random_scaled = arr_random * 70 + 20\n",
    "print(arr_random_scaled)"
   ],
   "outputs": [
    {
     "name": "stdout",
     "output_type": "stream",
     "text": [
      "[[43.6820985  53.79192526 33.76069209 42.13175283]\n",
      " [76.27315197 59.49693249 73.58689641 42.70336023]\n",
      " [71.76750354 38.77574585 25.43888094 69.41884783]\n",
      " [40.68736464 56.06919924 39.64073236 50.61567658]]\n"
     ]
    }
   ],
   "execution_count": 13
  },
  {
   "cell_type": "markdown",
   "metadata": {},
   "source": [
    "### Task 1.7\n",
    "Calculate the maximal values of **the array from task 1.6** in 3 ways:\n",
    "* A vector that contains the max values of the rows.\n",
    "* A vector that contains the max values of the columns.\n",
    "* The max value of the whole array.\n",
    "Add apropraite prints before each array."
   ]
  },
  {
   "cell_type": "code",
   "metadata": {
    "ExecuteTime": {
     "end_time": "2025-01-18T09:22:29.210145Z",
     "start_time": "2025-01-18T09:22:29.202939Z"
    }
   },
   "source": [
    "max_rows = np.max(arr_random_scaled, axis=1)\n",
    "print(max_rows)\n",
    "max_columns = np.max(arr_random_scaled, axis=0)\n",
    "print(max_columns)\n",
    "max_whole_array = np.max(arr_random_scaled)\n",
    "print(max_whole_array)\n"
   ],
   "outputs": [
    {
     "name": "stdout",
     "output_type": "stream",
     "text": [
      "[53.79192526 76.27315197 71.76750354 56.06919924]\n",
      "[76.27315197 59.49693249 73.58689641 69.41884783]\n",
      "76.27315196627964\n"
     ]
    }
   ],
   "execution_count": 14
  },
  {
   "cell_type": "markdown",
   "metadata": {},
   "source": [
    "### Task 1.8\n",
    "Calculate the median values of **the array from task 1.6** in 3 ways:\n",
    "* A vector that contains the median values of the rows.\n",
    "* A vector that contains the median values of the columns.\n",
    "* The max median of the whole array.\n",
    "Add apropraite prints before each array."
   ]
  },
  {
   "cell_type": "code",
   "execution_count": null,
   "metadata": {},
   "outputs": [],
   "source": [
    "medd_rows = np.median(arr_random_scaled, axis=1)\n",
    "print(medd_rows)\n",
    "medd_columns = np.median(arr_random_scaled, axis=0)\n",
    "print(medd_columns)"
   ]
  },
  {
   "cell_type": "markdown",
   "metadata": {},
   "source": [
    "## Part 2 - Pandas "
   ]
  },
  {
   "cell_type": "markdown",
   "metadata": {},
   "source": [
    "### Task 2.1\n",
    "Load the `hw2_winequality.csv` dataset into a pandas DataFrame object.  \n",
    "(You should re-read the \"The Data\" part at the beginning of this assignment)"
   ]
  },
  {
   "cell_type": "code",
   "metadata": {
    "ExecuteTime": {
     "end_time": "2025-01-18T10:34:27.345844Z",
     "start_time": "2025-01-18T10:34:27.333042Z"
    }
   },
   "source": "df = pd.read_csv(\"./hw2_winequality.csv\")",
   "outputs": [],
   "execution_count": 21
  },
  {
   "cell_type": "markdown",
   "metadata": {},
   "source": [
    "### Task 2.2\n",
    "Print the first 12 lines of the dataset"
   ]
  },
  {
   "cell_type": "code",
   "metadata": {
    "ExecuteTime": {
     "end_time": "2025-01-18T10:37:29.722530Z",
     "start_time": "2025-01-18T10:37:29.713071Z"
    }
   },
   "source": "print(df[:12])",
   "outputs": [
    {
     "name": "stdout",
     "output_type": "stream",
     "text": [
      "    fixed acidity  volatile acidity  citric acid  residual sugar  chlorides  \\\n",
      "0             7.5              0.33         0.38            8.70      0.126   \n",
      "1             6.9              0.15         0.28            4.40      0.029   \n",
      "2             8.2              0.34         0.29            5.20      0.076   \n",
      "3             4.8              0.17         0.28            2.90      0.030   \n",
      "4             7.4              0.20         0.36            1.20      0.038   \n",
      "5             6.0              0.32         0.30            7.30      0.174   \n",
      "6             5.5              0.31         0.29            3.00      0.027   \n",
      "7             6.2              0.36         0.14            8.90      0.036   \n",
      "8             5.7              0.26         0.27            4.10      0.201   \n",
      "9             7.7              0.35         0.49            8.65      0.033   \n",
      "10            6.7              0.18         0.31           10.60      0.035   \n",
      "11            7.7              0.27         0.34            1.80      0.028   \n",
      "\n",
      "    free sulfur dioxide  total sulfur dioxide  density    pH  sulphates  \\\n",
      "0                  49.0                 199.0  0.99711  2.98       0.57   \n",
      "1                  14.0                 107.0  0.99347  3.24       0.46   \n",
      "2                  19.0                  92.0  0.99138  2.95       0.39   \n",
      "3                  22.0                 111.0  0.99020  3.38       0.34   \n",
      "4                  44.0                 111.0  0.99260  3.36       0.34   \n",
      "5                  46.0                 159.0  0.99519  3.18       0.49   \n",
      "6                  16.0                 102.0  0.99067  3.23       0.56   \n",
      "7                  38.0                 155.0  0.99622  3.27       0.50   \n",
      "8                  73.5                 189.5  0.99420  3.27       0.38   \n",
      "9                  42.0                 186.0  0.99310  3.14       0.38   \n",
      "10                 42.0                 143.0  0.99572  3.08       0.49   \n",
      "11                 26.0                 168.0  0.99110  2.99       0.48   \n",
      "\n",
      "    alcohol  is_high_quality  \n",
      "0       9.4            False  \n",
      "1      10.4             True  \n",
      "2      12.5            False  \n",
      "3      11.3             True  \n",
      "4       9.9            False  \n",
      "5       9.4            False  \n",
      "6      11.2            False  \n",
      "7       9.4            False  \n",
      "8       9.4            False  \n",
      "9      12.4             True  \n",
      "10      9.8             True  \n",
      "11     12.1             True  \n"
     ]
    }
   ],
   "execution_count": 26
  },
  {
   "cell_type": "markdown",
   "metadata": {},
   "source": [
    "### Task 2.3\n",
    "Print the names of all the columns in the dataset and the print the type of each column next to its name.\n",
    "\n",
    "Your print should look something like:\n",
    "```\n",
    "<column_1_name>: <column_1_type>\n",
    "<column_2_name>: <column_2_type>\n",
    "<column_3_name>: <column_3_type>\n",
    "```"
   ]
  },
  {
   "cell_type": "code",
   "metadata": {
    "ExecuteTime": {
     "end_time": "2025-01-18T10:45:20.926858Z",
     "start_time": "2025-01-18T10:45:20.922144Z"
    }
   },
   "source": [
    "for column in df.columns:\n",
    "    print(f\"{column}: {df[column].dtype}\")"
   ],
   "outputs": [
    {
     "name": "stdout",
     "output_type": "stream",
     "text": [
      "fixed acidity: float64\n",
      "volatile acidity: float64\n",
      "citric acid: float64\n",
      "residual sugar: float64\n",
      "chlorides: float64\n",
      "free sulfur dioxide: float64\n",
      "total sulfur dioxide: float64\n",
      "density: float64\n",
      "pH: float64\n",
      "sulphates: float64\n",
      "alcohol: float64\n",
      "is_high_quality: bool\n"
     ]
    }
   ],
   "execution_count": 27
  },
  {
   "cell_type": "markdown",
   "metadata": {},
   "source": [
    "### Task 2.4\n",
    "Choose 4 columns from the dataset.  \n",
    "Create a new data frame that contains only these 4 columns."
   ]
  },
  {
   "cell_type": "code",
   "metadata": {
    "ExecuteTime": {
     "end_time": "2025-01-18T10:48:46.042402Z",
     "start_time": "2025-01-18T10:48:46.034424Z"
    }
   },
   "source": [
    "truncared_df = df[df.columns[:4]]\n",
    "print(truncared_df)"
   ],
   "outputs": [
    {
     "name": "stdout",
     "output_type": "stream",
     "text": [
      "      fixed acidity  volatile acidity  citric acid  residual sugar\n",
      "0               7.5              0.33         0.38             8.7\n",
      "1               6.9              0.15         0.28             4.4\n",
      "2               8.2              0.34         0.29             5.2\n",
      "3               4.8              0.17         0.28             2.9\n",
      "4               7.4              0.20         0.36             1.2\n",
      "...             ...               ...          ...             ...\n",
      "4404            7.6              0.35         0.46            14.7\n",
      "4405            5.9              0.14         0.20             1.6\n",
      "4406            8.0              0.24         0.33             1.2\n",
      "4407            7.1              0.21         0.28             2.7\n",
      "4408            6.8              0.21         0.36            18.1\n",
      "\n",
      "[4409 rows x 4 columns]\n"
     ]
    }
   ],
   "execution_count": 32
  },
  {
   "cell_type": "markdown",
   "metadata": {},
   "source": [
    "#### Task 2.5\n",
    "Choose 4 columns from the dataset.  \n",
    "Create a new data frame that contains only these 4 columns and only the first 40 rows."
   ]
  },
  {
   "cell_type": "code",
   "metadata": {
    "ExecuteTime": {
     "end_time": "2025-01-18T10:49:36.138448Z",
     "start_time": "2025-01-18T10:49:36.130409Z"
    }
   },
   "source": [
    "double_truncared_df = df[df.columns[:4]][0:40]\n",
    "print(double_truncared_df)"
   ],
   "outputs": [
    {
     "name": "stdout",
     "output_type": "stream",
     "text": [
      "    fixed acidity  volatile acidity  citric acid  residual sugar\n",
      "0             7.5              0.33         0.38            8.70\n",
      "1             6.9              0.15         0.28            4.40\n",
      "2             8.2              0.34         0.29            5.20\n",
      "3             4.8              0.17         0.28            2.90\n",
      "4             7.4              0.20         0.36            1.20\n",
      "5             6.0              0.32         0.30            7.30\n",
      "6             5.5              0.31         0.29            3.00\n",
      "7             6.2              0.36         0.14            8.90\n",
      "8             5.7              0.26         0.27            4.10\n",
      "9             7.7              0.35         0.49            8.65\n",
      "10            6.7              0.18         0.31           10.60\n",
      "11            7.7              0.27         0.34            1.80\n",
      "12            6.8              0.34         0.27            5.20\n",
      "13            7.0              0.24         0.25            1.70\n",
      "14            7.5              0.13         0.38            1.10\n",
      "15            6.9              0.18         0.36            1.30\n",
      "16            7.7              0.26         0.51            2.60\n",
      "17            6.9              0.49         0.24            1.20\n",
      "18            7.2              0.39         0.63           11.00\n",
      "19            7.4              0.31         0.26            8.60\n",
      "20            6.1              0.18         0.38            2.30\n",
      "21            7.2              0.27         0.42            1.60\n",
      "22            6.8              0.26         0.26            2.00\n",
      "23            8.3              0.16         0.37            7.90\n",
      "24            7.3              0.34         0.21            3.20\n",
      "25            6.0              0.45         0.65            9.70\n",
      "26            7.6              0.36         0.49           11.30\n",
      "27            6.2              0.36         0.22            5.25\n",
      "28            8.3              0.28         0.27           17.50\n",
      "29            6.4              0.17         0.32            2.40\n",
      "30            7.4              0.20         0.28            9.10\n",
      "31            6.8              0.18         0.37            1.60\n",
      "32            7.2              0.24         0.29            2.20\n",
      "33            6.0              0.17         0.49            1.00\n",
      "34            8.2              0.17         0.32            1.50\n",
      "35            7.0              0.27         0.74            1.30\n",
      "36            7.7              0.39         0.28            4.90\n",
      "37            6.2              0.27         0.32            6.30\n",
      "38            6.4              0.25         0.57            1.00\n",
      "39            5.9              0.65         0.23            5.00\n"
     ]
    }
   ],
   "execution_count": 33
  },
  {
   "cell_type": "markdown",
   "metadata": {},
   "source": [
    "### Task 2.6\n",
    "Choose 1 column from the dataset.  \n",
    "Create a numpy array from this column."
   ]
  },
  {
   "cell_type": "code",
   "metadata": {
    "ExecuteTime": {
     "end_time": "2025-01-18T10:51:40.788236Z",
     "start_time": "2025-01-18T10:51:40.777244Z"
    }
   },
   "source": [
    "arr_df = df[df.columns[0]].to_numpy()\n",
    "print(arr_df)"
   ],
   "outputs": [
    {
     "name": "stdout",
     "output_type": "stream",
     "text": [
      "[7.5 6.9 8.2 ... 8.  7.1 6.8]\n"
     ]
    }
   ],
   "execution_count": 35
  },
  {
   "cell_type": "markdown",
   "metadata": {},
   "source": [
    "## Part 3 - Visualization "
   ]
  },
  {
   "cell_type": "markdown",
   "metadata": {},
   "source": [
    "### Task 3.1\n",
    "#### 3.1.1\n",
    "Choose 2 columns from the dataset.  \n",
    "Show a **scatter** plot where:\n",
    "- One column is the X axis coordinates.\n",
    "- The other column is the Y axis coordinates\n",
    "\n",
    "#### 3.1.2\n",
    "Choose another column.  \n",
    "Plot it on the **same** graph (as another set of Y coordinates).\n",
    "\n",
    "**Make sure to add a title, a legend and axis labels to your plot**"
   ]
  },
  {
   "cell_type": "code",
   "metadata": {
    "ExecuteTime": {
     "end_time": "2025-01-18T11:11:16.163995Z",
     "start_time": "2025-01-18T11:11:15.827142Z"
    }
   },
   "source": [
    "x_col = df[df.columns[0]]\n",
    "y_col = df[df.columns[1]]\n",
    "\n",
    "plt.figure(figsize=(10, 6))\n",
    "plt.scatter(df[x_col], df[y_col], label=\"scatter plot\")\n"
   ],
   "outputs": [
    {
     "data": {
      "text/plain": [
       "<Figure size 1000x500 with 1 Axes>"
      ],
      "image/png": "[encoded data removed]"
     },
     "metadata": {},
     "output_type": "display_data"
    }
   ],
   "execution_count": 36
  },
  {
   "cell_type": "markdown",
   "metadata": {},
   "source": [
    "### Task 3.2\n",
    "\n",
    "Choose 2 columns from the dataset. \n",
    "\n",
    "On the **same figure**, but in different graphs, draw 4 plots:\n",
    "- histogram of the first column\n",
    "- histogram of the second column\n",
    "- a scatter plot where the first column is the X axis coordinates and the second column is the Y axis coordinates.\n",
    "- a scatter plot where the second column is the X axis coordinates and the first column is the Y axis coordinates.\n",
    "\n",
    "**Make sure to add a title, a legend and axis labels to all your plots**\n",
    "\n",
    "- Use: `fig, ax = plt.subplots(2,2)`"
   ]
  },
  {
   "cell_type": "code",
   "execution_count": null,
   "metadata": {},
   "outputs": [],
   "source": [
    "# Your code goes here"
   ]
  },
  {
   "cell_type": "markdown",
   "metadata": {},
   "source": [
    "### Task 3.3\n",
    "\n",
    "Draw a pie plot of the \"is_high_quality\" column\n",
    "\n",
    "**Make sure to add a title and labels**"
   ]
  },
  {
   "cell_type": "code",
   "execution_count": null,
   "metadata": {},
   "outputs": [],
   "source": [
    "# Your code goes here"
   ]
  },
  {
   "cell_type": "markdown",
   "metadata": {},
   "source": [
    "## Part 4 - Visualization - Correlation Heatmap"
   ]
  },
  {
   "cell_type": "markdown",
   "metadata": {},
   "source": [
    "### Task 4.1\n",
    "\n",
    "Create a correlation dataframe for the dataset (all columns against all columns).\n",
    "\n",
    "Use seaborn to plot 2 correlation heatmaps:\n",
    "1. Where values are going from -1 to 1.\n",
    "2. Where values are going from 0 to 1."
   ]
  },
  {
   "cell_type": "code",
   "execution_count": null,
   "metadata": {},
   "outputs": [],
   "source": [
    "# Your code goes here"
   ]
  },
  {
   "cell_type": "markdown",
   "metadata": {},
   "source": [
    "### Task 4.2\n",
    "\n",
    "Look at the heatmap, choose the pair of columns with the highest correlation between them,\n",
    "and draw graph to show the linear relation between those 2 columns.\n",
    "You have to choose the correct graph type to show that!"
   ]
  },
  {
   "cell_type": "code",
   "execution_count": null,
   "metadata": {},
   "outputs": [],
   "source": [
    "# Your code goes here"
   ]
  }
 ],
 "metadata": {
  "kernelspec": {
   "display_name": "Python 3 (ipykernel)",
   "language": "python",
   "name": "python3"
  },
  "language_info": {
   "codemirror_mode": {
    "name": "ipython",
    "version": 3
   },
   "file_extension": ".py",
   "mimetype": "text/x-python",
   "name": "python",
   "nbconvert_exporter": "python",
   "pygments_lexer": "ipython3",
   "version": "3.8.10"
  }
 },
 "nbformat": 4,
 "nbformat_minor": 1
}
